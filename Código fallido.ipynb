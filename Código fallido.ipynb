{
 "cells": [
  {
   "cell_type": "code",
   "execution_count": null,
   "metadata": {
    "collapsed": true
   },
   "outputs": [],
   "source": [
    "diferencia=8 #diferencia entre numero de rezago y el mes \n",
    "#for 2016\n",
    "for i,j in zip(final_lags,range(9,13,1)):\n",
    "    t=j-i\n",
    "    if t==diferencia:\n",
    "        j=j\n",
    "    else:\n",
    "        j=j+t\n",
    "    \n",
    "    print(i,j)\n",
    "    \n",
    "final_l=np.array(final_lags)\n",
    "condition = final_l>i\n",
    "final_lags2=np.extract(condition, final_l)\n",
    "final_lags2=list(final_lags2)\n",
    "\n",
    "#for 2017\n",
    "for i,j in zip(final_lags2,range(1,13,1)):\n",
    "    w=j+12\n",
    "    t=w-i\n",
    "    if t==diferencia:\n",
    "        j=j\n",
    "    else:\n",
    "        j=j+t\n",
    "    \n",
    "    print(i,j)"
   ]
  }
 ],
 "metadata": {
  "kernelspec": {
   "display_name": "Python 3",
   "language": "python",
   "name": "python3"
  },
  "language_info": {
   "codemirror_mode": {
    "name": "ipython",
    "version": 3
   },
   "file_extension": ".py",
   "mimetype": "text/x-python",
   "name": "python",
   "nbconvert_exporter": "python",
   "pygments_lexer": "ipython3",
   "version": "3.5.4"
  }
 },
 "nbformat": 4,
 "nbformat_minor": 0
}
