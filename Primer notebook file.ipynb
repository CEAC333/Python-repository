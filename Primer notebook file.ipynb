{
 "cells": [
  {
   "cell_type": "markdown",
   "metadata": {},
   "source": [
    "# Título\n",
    "Qué pasa si escribo aquí\n",
    "## subtítulo\n",
    "una prueba para diferentes tipos de letras: *hola perros* **cerdos capitalistas**\n",
    "### subsubtítulo\n",
    "1. una pequeña\n",
    "2. lista\n",
    "3. para ver \n",
    "4. que pedo\n"
   ]
  },
  {
   "cell_type": "code",
   "execution_count": 9,
   "metadata": {
    "collapsed": false
   },
   "outputs": [
    {
     "name": "stdout",
     "output_type": "stream",
     "text": [
      "culerosss\n"
     ]
    }
   ],
   "source": [
    "print('culerosss')"
   ]
  },
  {
   "cell_type": "code",
   "execution_count": 14,
   "metadata": {
    "collapsed": false
   },
   "outputs": [],
   "source": [
    "name='jose'"
   ]
  },
  {
   "cell_type": "code",
   "execution_count": 15,
   "metadata": {
    "collapsed": false
   },
   "outputs": [
    {
     "data": {
      "text/plain": [
       "'jose'"
      ]
     },
     "execution_count": 15,
     "metadata": {},
     "output_type": "execute_result"
    }
   ],
   "source": [
    "name"
   ]
  },
  {
   "cell_type": "code",
   "execution_count": 16,
   "metadata": {
    "collapsed": false
   },
   "outputs": [
    {
     "data": {
      "application/json": {
       "cell": {
        "!": "OSMagics",
        "HTML": "Other",
        "SVG": "Other",
        "bash": "Other",
        "capture": "ExecutionMagics",
        "cmd": "Other",
        "debug": "ExecutionMagics",
        "file": "Other",
        "html": "DisplayMagics",
        "javascript": "DisplayMagics",
        "latex": "DisplayMagics",
        "perl": "Other",
        "prun": "ExecutionMagics",
        "pypy": "Other",
        "python": "Other",
        "python2": "Other",
        "python3": "Other",
        "ruby": "Other",
        "script": "ScriptMagics",
        "sh": "Other",
        "svg": "DisplayMagics",
        "sx": "OSMagics",
        "system": "OSMagics",
        "time": "ExecutionMagics",
        "timeit": "ExecutionMagics",
        "writefile": "OSMagics"
       },
       "line": {
        "alias": "OSMagics",
        "alias_magic": "BasicMagics",
        "autocall": "AutoMagics",
        "automagic": "AutoMagics",
        "autosave": "KernelMagics",
        "bookmark": "OSMagics",
        "cd": "OSMagics",
        "clear": "KernelMagics",
        "cls": "KernelMagics",
        "colors": "BasicMagics",
        "config": "ConfigMagics",
        "connect_info": "KernelMagics",
        "copy": "Other",
        "ddir": "Other",
        "debug": "ExecutionMagics",
        "dhist": "OSMagics",
        "dirs": "OSMagics",
        "doctest_mode": "BasicMagics",
        "echo": "Other",
        "ed": "Other",
        "edit": "KernelMagics",
        "env": "OSMagics",
        "gui": "BasicMagics",
        "hist": "Other",
        "history": "HistoryMagics",
        "install_default_config": "DeprecatedMagics",
        "install_ext": "ExtensionMagics",
        "install_profiles": "DeprecatedMagics",
        "killbgscripts": "ScriptMagics",
        "ldir": "Other",
        "less": "KernelMagics",
        "load": "CodeMagics",
        "load_ext": "ExtensionMagics",
        "loadpy": "CodeMagics",
        "logoff": "LoggingMagics",
        "logon": "LoggingMagics",
        "logstart": "LoggingMagics",
        "logstate": "LoggingMagics",
        "logstop": "LoggingMagics",
        "ls": "Other",
        "lsmagic": "BasicMagics",
        "macro": "ExecutionMagics",
        "magic": "BasicMagics",
        "matplotlib": "PylabMagics",
        "mkdir": "Other",
        "more": "KernelMagics",
        "notebook": "BasicMagics",
        "page": "BasicMagics",
        "pastebin": "CodeMagics",
        "pdb": "ExecutionMagics",
        "pdef": "NamespaceMagics",
        "pdoc": "NamespaceMagics",
        "pfile": "NamespaceMagics",
        "pinfo": "NamespaceMagics",
        "pinfo2": "NamespaceMagics",
        "popd": "OSMagics",
        "pprint": "BasicMagics",
        "precision": "BasicMagics",
        "profile": "BasicMagics",
        "prun": "ExecutionMagics",
        "psearch": "NamespaceMagics",
        "psource": "NamespaceMagics",
        "pushd": "OSMagics",
        "pwd": "OSMagics",
        "pycat": "OSMagics",
        "pylab": "PylabMagics",
        "qtconsole": "KernelMagics",
        "quickref": "BasicMagics",
        "recall": "HistoryMagics",
        "rehashx": "OSMagics",
        "reload_ext": "ExtensionMagics",
        "ren": "Other",
        "rep": "Other",
        "rerun": "HistoryMagics",
        "reset": "NamespaceMagics",
        "reset_selective": "NamespaceMagics",
        "rmdir": "Other",
        "run": "ExecutionMagics",
        "save": "CodeMagics",
        "sc": "OSMagics",
        "set_env": "OSMagics",
        "store": "StoreMagics",
        "sx": "OSMagics",
        "system": "OSMagics",
        "tb": "ExecutionMagics",
        "time": "ExecutionMagics",
        "timeit": "ExecutionMagics",
        "unalias": "OSMagics",
        "unload_ext": "ExtensionMagics",
        "who": "NamespaceMagics",
        "who_ls": "NamespaceMagics",
        "whos": "NamespaceMagics",
        "xdel": "NamespaceMagics",
        "xmode": "BasicMagics"
       }
      },
      "text/plain": [
       "Available line magics:\n",
       "%alias  %alias_magic  %autocall  %automagic  %autosave  %bookmark  %cd  %clear  %cls  %colors  %config  %connect_info  %copy  %ddir  %debug  %dhist  %dirs  %doctest_mode  %echo  %ed  %edit  %env  %gui  %hist  %history  %install_default_config  %install_ext  %install_profiles  %killbgscripts  %ldir  %less  %load  %load_ext  %loadpy  %logoff  %logon  %logstart  %logstate  %logstop  %ls  %lsmagic  %macro  %magic  %matplotlib  %mkdir  %more  %notebook  %page  %pastebin  %pdb  %pdef  %pdoc  %pfile  %pinfo  %pinfo2  %popd  %pprint  %precision  %profile  %prun  %psearch  %psource  %pushd  %pwd  %pycat  %pylab  %qtconsole  %quickref  %recall  %rehashx  %reload_ext  %ren  %rep  %rerun  %reset  %reset_selective  %rmdir  %run  %save  %sc  %set_env  %store  %sx  %system  %tb  %time  %timeit  %unalias  %unload_ext  %who  %who_ls  %whos  %xdel  %xmode\n",
       "\n",
       "Available cell magics:\n",
       "%%!  %%HTML  %%SVG  %%bash  %%capture  %%cmd  %%debug  %%file  %%html  %%javascript  %%latex  %%perl  %%prun  %%pypy  %%python  %%python2  %%python3  %%ruby  %%script  %%sh  %%svg  %%sx  %%system  %%time  %%timeit  %%writefile\n",
       "\n",
       "Automagic is ON, % prefix IS NOT needed for line magics."
      ]
     },
     "execution_count": 16,
     "metadata": {},
     "output_type": "execute_result"
    }
   ],
   "source": [
    "%lsmagic"
   ]
  },
  {
   "cell_type": "code",
   "execution_count": 19,
   "metadata": {
    "collapsed": false
   },
   "outputs": [
    {
     "data": {
      "text/plain": [
       "'C:\\\\Users\\\\Edu'"
      ]
     },
     "execution_count": 19,
     "metadata": {},
     "output_type": "execute_result"
    }
   ],
   "source": [
    "%pwd"
   ]
  },
  {
   "cell_type": "code",
   "execution_count": 1,
   "metadata": {
    "collapsed": true
   },
   "outputs": [],
   "source": [
    "%matplotlib inline"
   ]
  },
  {
   "cell_type": "code",
   "execution_count": 2,
   "metadata": {
    "collapsed": false
   },
   "outputs": [
    {
     "data": {
      "image/png": "[encoded data removed]",
      "text/plain": [
       "<matplotlib.figure.Figure at 0x515bb90>"
      ]
     },
     "metadata": {},
     "output_type": "display_data"
    }
   ],
   "source": [
    "\"\"\"\n",
    "Simple demo of a scatter plot\n",
    "\"\"\"\n",
    "import numpy as np\n",
    "import matplotlib.pyplot as plt\n",
    "\n",
    "n=50\n",
    "x=np.random.randn(n) #dist normal\n",
    "y=np.random.rand(n) #dist uniforme\n",
    "colors=np.random.rand(n)\n",
    "area=np.pi*(15*np.random.rand(n))**2 #0 to 15 point radiuses \n",
    "\n",
    "plt.scatter(x,y,s=area,c=colors,alpha=0.5)\n",
    "plt.show()"
   ]
  },
  {
   "cell_type": "code",
   "execution_count": 6,
   "metadata": {
    "collapsed": false
   },
   "outputs": [
    {
     "data": {
      "text/html": [
       "<iframe width=\"560\" height=\"315\" src=\"https://www.youtube.com/watch?v=94Rq2TX0wj4&list=LLHCx6oayziUhn3asUFY_4iQ&index=14\" frame border=\"0\"\n",
       "allowfullscreen></iframe>"
      ],
      "text/plain": [
       "<IPython.core.display.HTML object>"
      ]
     },
     "metadata": {},
     "output_type": "display_data"
    }
   ],
   "source": [
    "%%HTML\n",
    "<iframe width=\"560\" height=\"315\" src=\"https://www.youtube.com/watch?v=94Rq2TX0wj4&list=LLHCx6oayziUhn3asUFY_4iQ&index=14\" frame border=\"0\"\n",
    "allowfullscreen></iframe>"
   ]
  },
  {
   "cell_type": "code",
   "execution_count": 7,
   "metadata": {
    "collapsed": false,
    "scrolled": true
   },
   "outputs": [
    {
     "name": "stdout",
     "output_type": "stream",
     "text": [
      "10000 loops, best of 3: 217 µs per loop\n"
     ]
    }
   ],
   "source": [
    "%%timeit # medir el tiempo que tarda en correr el código\n",
    "square_events= [n*n for n in range(1000)]\n"
   ]
  },
  {
   "cell_type": "code",
   "execution_count": 18,
   "metadata": {
    "collapsed": false,
    "scrolled": true
   },
   "outputs": [
    {
     "data": {
      "text/html": [
       "<div>\n",
       "<table border=\"1\" class=\"dataframe\">\n",
       "  <thead>\n",
       "    <tr style=\"text-align: right;\">\n",
       "      <th></th>\n",
       "      <th>0</th>\n",
       "      <th>1</th>\n",
       "      <th>2</th>\n",
       "      <th>3</th>\n",
       "      <th>4</th>\n",
       "      <th>5</th>\n",
       "      <th>6</th>\n",
       "      <th>7</th>\n",
       "    </tr>\n",
       "  </thead>\n",
       "  <tbody>\n",
       "    <tr>\n",
       "      <th>0</th>\n",
       "      <td>0.836689</td>\n",
       "      <td>0.307317</td>\n",
       "      <td>0.843888</td>\n",
       "      <td>0.167474</td>\n",
       "      <td>0.336184</td>\n",
       "      <td>0.850588</td>\n",
       "      <td>0.136740</td>\n",
       "      <td>0.100409</td>\n",
       "    </tr>\n",
       "    <tr>\n",
       "      <th>1</th>\n",
       "      <td>0.285911</td>\n",
       "      <td>0.497468</td>\n",
       "      <td>0.782202</td>\n",
       "      <td>0.971043</td>\n",
       "      <td>0.393215</td>\n",
       "      <td>0.594015</td>\n",
       "      <td>0.108967</td>\n",
       "      <td>0.797875</td>\n",
       "    </tr>\n",
       "    <tr>\n",
       "      <th>2</th>\n",
       "      <td>0.866458</td>\n",
       "      <td>0.793134</td>\n",
       "      <td>0.684723</td>\n",
       "      <td>0.277761</td>\n",
       "      <td>0.316570</td>\n",
       "      <td>0.100113</td>\n",
       "      <td>0.662755</td>\n",
       "      <td>0.108637</td>\n",
       "    </tr>\n",
       "    <tr>\n",
       "      <th>3</th>\n",
       "      <td>0.401167</td>\n",
       "      <td>0.859934</td>\n",
       "      <td>0.348457</td>\n",
       "      <td>0.998803</td>\n",
       "      <td>0.471330</td>\n",
       "      <td>0.638724</td>\n",
       "      <td>0.442942</td>\n",
       "      <td>0.606764</td>\n",
       "    </tr>\n",
       "    <tr>\n",
       "      <th>4</th>\n",
       "      <td>0.287713</td>\n",
       "      <td>0.786970</td>\n",
       "      <td>0.324463</td>\n",
       "      <td>0.393318</td>\n",
       "      <td>0.625151</td>\n",
       "      <td>0.540960</td>\n",
       "      <td>0.033263</td>\n",
       "      <td>0.801841</td>\n",
       "    </tr>\n",
       "    <tr>\n",
       "      <th>5</th>\n",
       "      <td>0.915903</td>\n",
       "      <td>0.453673</td>\n",
       "      <td>0.828394</td>\n",
       "      <td>0.461599</td>\n",
       "      <td>0.953037</td>\n",
       "      <td>0.034102</td>\n",
       "      <td>0.900128</td>\n",
       "      <td>0.760569</td>\n",
       "    </tr>\n",
       "    <tr>\n",
       "      <th>6</th>\n",
       "      <td>0.001405</td>\n",
       "      <td>0.827628</td>\n",
       "      <td>0.073551</td>\n",
       "      <td>0.022863</td>\n",
       "      <td>0.518964</td>\n",
       "      <td>0.623231</td>\n",
       "      <td>0.345565</td>\n",
       "      <td>0.174347</td>\n",
       "    </tr>\n",
       "    <tr>\n",
       "      <th>7</th>\n",
       "      <td>0.592806</td>\n",
       "      <td>0.604064</td>\n",
       "      <td>0.963711</td>\n",
       "      <td>0.458851</td>\n",
       "      <td>0.010971</td>\n",
       "      <td>0.825154</td>\n",
       "      <td>0.815659</td>\n",
       "      <td>0.245949</td>\n",
       "    </tr>\n",
       "  </tbody>\n",
       "</table>\n",
       "</div>"
      ],
      "text/plain": [
       "          0         1         2         3         4         5         6  \\\n",
       "0  0.836689  0.307317  0.843888  0.167474  0.336184  0.850588  0.136740   \n",
       "1  0.285911  0.497468  0.782202  0.971043  0.393215  0.594015  0.108967   \n",
       "2  0.866458  0.793134  0.684723  0.277761  0.316570  0.100113  0.662755   \n",
       "3  0.401167  0.859934  0.348457  0.998803  0.471330  0.638724  0.442942   \n",
       "4  0.287713  0.786970  0.324463  0.393318  0.625151  0.540960  0.033263   \n",
       "5  0.915903  0.453673  0.828394  0.461599  0.953037  0.034102  0.900128   \n",
       "6  0.001405  0.827628  0.073551  0.022863  0.518964  0.623231  0.345565   \n",
       "7  0.592806  0.604064  0.963711  0.458851  0.010971  0.825154  0.815659   \n",
       "\n",
       "          7  \n",
       "0  0.100409  \n",
       "1  0.797875  \n",
       "2  0.108637  \n",
       "3  0.606764  \n",
       "4  0.801841  \n",
       "5  0.760569  \n",
       "6  0.174347  \n",
       "7  0.245949  "
      ]
     },
     "execution_count": 18,
     "metadata": {},
     "output_type": "execute_result"
    }
   ],
   "source": [
    "import pandas as pd\n",
    "import numpy as np\n",
    "\n",
    "df = pd.DataFrame(np.random.rand(8,8))\n",
    "df\n"
   ]
  },
  {
   "cell_type": "code",
   "execution_count": 31,
   "metadata": {
    "collapsed": false
   },
   "outputs": [
    {
     "data": {
      "text/html": [
       "<div>\n",
       "<table border=\"1\" class=\"dataframe\">\n",
       "  <thead>\n",
       "    <tr style=\"text-align: right;\">\n",
       "      <th></th>\n",
       "      <th>0</th>\n",
       "    </tr>\n",
       "  </thead>\n",
       "  <tbody>\n",
       "    <tr>\n",
       "      <th>-0.431328</th>\n",
       "      <td>0.305053</td>\n",
       "    </tr>\n",
       "    <tr>\n",
       "      <th>-1.104062</th>\n",
       "      <td>0.048256</td>\n",
       "    </tr>\n",
       "    <tr>\n",
       "      <th>-0.418327</th>\n",
       "      <td>0.284897</td>\n",
       "    </tr>\n",
       "    <tr>\n",
       "      <th>0.931700</th>\n",
       "      <td>0.574967</td>\n",
       "    </tr>\n",
       "    <tr>\n",
       "      <th>-1.196268</th>\n",
       "      <td>0.736753</td>\n",
       "    </tr>\n",
       "    <tr>\n",
       "      <th>-0.511735</th>\n",
       "      <td>0.232399</td>\n",
       "    </tr>\n",
       "    <tr>\n",
       "      <th>0.629513</th>\n",
       "      <td>0.185412</td>\n",
       "    </tr>\n",
       "    <tr>\n",
       "      <th>0.387787</th>\n",
       "      <td>0.276182</td>\n",
       "    </tr>\n",
       "    <tr>\n",
       "      <th>0.013455</th>\n",
       "      <td>0.119253</td>\n",
       "    </tr>\n",
       "    <tr>\n",
       "      <th>0.562019</th>\n",
       "      <td>0.641550</td>\n",
       "    </tr>\n",
       "    <tr>\n",
       "      <th>-0.146019</th>\n",
       "      <td>0.320563</td>\n",
       "    </tr>\n",
       "    <tr>\n",
       "      <th>-3.298266</th>\n",
       "      <td>0.983862</td>\n",
       "    </tr>\n",
       "    <tr>\n",
       "      <th>0.022538</th>\n",
       "      <td>0.920015</td>\n",
       "    </tr>\n",
       "    <tr>\n",
       "      <th>0.579044</th>\n",
       "      <td>0.031712</td>\n",
       "    </tr>\n",
       "    <tr>\n",
       "      <th>0.863203</th>\n",
       "      <td>0.195211</td>\n",
       "    </tr>\n",
       "    <tr>\n",
       "      <th>-1.861034</th>\n",
       "      <td>0.910997</td>\n",
       "    </tr>\n",
       "    <tr>\n",
       "      <th>-1.181241</th>\n",
       "      <td>0.631435</td>\n",
       "    </tr>\n",
       "    <tr>\n",
       "      <th>-0.064354</th>\n",
       "      <td>0.289812</td>\n",
       "    </tr>\n",
       "    <tr>\n",
       "      <th>-0.747625</th>\n",
       "      <td>0.803557</td>\n",
       "    </tr>\n",
       "    <tr>\n",
       "      <th>-0.194852</th>\n",
       "      <td>0.500757</td>\n",
       "    </tr>\n",
       "  </tbody>\n",
       "</table>\n",
       "</div>"
      ],
      "text/plain": [
       "                  0\n",
       "-0.431328  0.305053\n",
       "-1.104062  0.048256\n",
       "-0.418327  0.284897\n",
       " 0.931700  0.574967\n",
       "-1.196268  0.736753\n",
       "-0.511735  0.232399\n",
       " 0.629513  0.185412\n",
       " 0.387787  0.276182\n",
       " 0.013455  0.119253\n",
       " 0.562019  0.641550\n",
       "-0.146019  0.320563\n",
       "-3.298266  0.983862\n",
       " 0.022538  0.920015\n",
       " 0.579044  0.031712\n",
       " 0.863203  0.195211\n",
       "-1.861034  0.910997\n",
       "-1.181241  0.631435\n",
       "-0.064354  0.289812\n",
       "-0.747625  0.803557\n",
       "-0.194852  0.500757"
      ]
     },
     "execution_count": 31,
     "metadata": {},
     "output_type": "execute_result"
    }
   ],
   "source": []
  }
 ],
 "metadata": {
  "kernelspec": {
   "display_name": "Python 3",
   "language": "python",
   "name": "python3"
  },
  "language_info": {
   "codemirror_mode": {
    "name": "ipython",
    "version": 3
   },
   "file_extension": ".py",
   "mimetype": "text/x-python",
   "name": "python",
   "nbconvert_exporter": "python",
   "pygments_lexer": "ipython3",
   "version": "3.5.1"
  }
 },
 "nbformat": 4,
 "nbformat_minor": 0
}
