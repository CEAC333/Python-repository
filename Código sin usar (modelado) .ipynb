{
 "cells": [
  {
   "cell_type": "code",
   "execution_count": null,
   "metadata": {
    "collapsed": true
   },
   "outputs": [],
   "source": [
    "final_lags=[1,2,3,4,5,10,11] # este código funciona para reemplazar las primeras predicciones del mes 8 año 2016\n",
    "index=list(range(1,12,1))\n",
    "meses=pd.DataFrame([9,10,11,12,1,2,3,4,5,6,7],columns=['Meses'],index=index)\n",
    "meses=meses.loc[final_lags,:]\n",
    "meses=meses.Meses.values.tolist()\n",
    "for i,j in zip(final_lags,meses):\n",
    "    if i<5:# para separar 2016 y 2017\n",
    "        año=2016\n",
    "    else:\n",
    "        año=2017\n",
    "    rows_toreplace=X_test[(X_test.Año==año) & (X_test.Mes==j)].index.values # filas a reemplazar con predicciones\n",
    "    X_test.loc[rows_toreplace,'t-'+str(i)]=dtest_predictions #reemplazando los datos reales por las predicciones en conjunto test\n"
   ]
  },
  {
   "cell_type": "code",
   "execution_count": null,
   "metadata": {
    "collapsed": true
   },
   "outputs": [],
   "source": [
    "final_lags=[1,2,3,4,5,10,11] #rezagos significativos \n",
    "total_lags=[1,2,3,4,5,6,7,8,9,10,11]#todos los rezagos \n",
    "meses_apredecir=[8,9,10,11,12,1,2,3,4,5,6] #meses a predecir en el ciclo for(11 meses) el 12° mes se predice por separado al último\n",
    "aux=0 #se utiliza para ir disminuyendo el umbral para saber si el mes a reemplazar pertenece a 2016 o 2017 a partir del mes 12 2016 todos los \n",
    "#reemplazos se harán en el año 2017\n",
    "resultados=pd.DataFrame(data=np.zeros((420,1)),columns=['Prediccion']) #Data frame donde se guardarán los pronósticos \n",
    "for t,mes_predic in zip(range(1,12,1),meses_apredecir):  ########aureca , es el bueno por fin!\n",
    "    if t<6:\n",
    "        año_predic=2016\n",
    "    else:\n",
    "        año_predic=2017\n",
    "    dtest_predictions = gbm0.predict(X_test[(X_test.Año==año_predic) & (X_test.Mes==mes_predic)].reset_index(drop=True)) #hacer predicciones\n",
    "    #mes con mes \n",
    "\n",
    "    lags=set(total_lags).intersection(final_lags) #para encontrar los que coinciden entre total_lags y final_lags \n",
    "    lags=list(lags) #rezagos a reemplazar en cada iteración de predicciones \n",
    "\n",
    "    index=list(range(1,13-t,1))\n",
    "    meses=pd.DataFrame([9,10,11,12,1,2,3,4,5,6,7],columns=['Meses']) #todos los meses en los que se reemplazarían las predicciones \n",
    "    meses=meses.iloc[t-1:,:]\n",
    "    meses['index']=index\n",
    "    meses=meses.set_index('index')\n",
    "    meses=meses.loc[lags,:]\n",
    "    meses=meses.Meses.values.tolist() #meses en los que se reemplaza las predicciones dados los rezagos significativos (final_lags)\n",
    "\n",
    "    total_lags=total_lags[:-1] #para ir eliminando el último elemento de la lista \"total_lags\"\n",
    "    \n",
    "    for i,j in zip(lags,meses): #ciclo para ir reemplazando las predicciones ,\"i\" sería el contador para rezagos y \"j\" contador para meses a reemplazar\n",
    "        if i<(5-aux):# para separar 2016 y 2017\n",
    "            año_replace=2016\n",
    "        else:\n",
    "            año_replace=2017\n",
    "        rows_toreplace=X_test[(X_test.Año==año_replace) & (X_test.Mes==j)].index.values # filas a reemplazar con predicciones\n",
    "        X_test.loc[rows_toreplace,'t-'+str(i)]=dtest_predictions #reemplazando los datos reales por las predicciones en conjunto test\n",
    "    aux=aux+1 \n",
    "    print(dtest_predictions)\n",
    "    resultados.Prediccion[(t-1)*35:t*35]=dtest_predictions\n",
    "    \n",
    "##predicciones del último mes( Julio 2017)\n",
    "dtest_predictions = gbm0.predict(X_test[(X_test.Año==2017) & (X_test.Mes==7)].reset_index(drop=True)) \n",
    "resultados.Prediccion[385:]=dtest_predictions"
   ]
  },
  {
   "cell_type": "code",
   "execution_count": null,
   "metadata": {
    "collapsed": true
   },
   "outputs": [],
   "source": [
    "#dividir train,cross y tst\n",
    "data_train=datos.query('Año<2015').reset_index(drop=True) #desde diciembre 2000 hasta 2012 \n",
    "data_cross=datos.query('(Año==2016 & Mes<8) or (Año<2016 & Año>2014)').reset_index(drop=True) #2013 hasta julio 2016\n",
    "data_test=datos.query('Año == 2017 or (Año==2016 & Mes>7)').reset_index(drop=True) #ultimos 12 meses\n",
    "\n",
    "#separar \"x,y\"\n",
    "Y_train=data_train.iloc[:,4:5]\n",
    "X_train=data_train.ix[:, data_train.columns != 'Monto']\n",
    "\n",
    "Y_cross=data_cross.iloc[:,4:5]\n",
    "X_cross=data_cross.ix[:, data_cross.columns != 'Monto']\n",
    "\n",
    "Y_test=data_test.iloc[:,4:5]\n",
    "X_test=data_test.ix[:, data_test.columns != 'Monto']\n",
    "\n",
    "#Fit the algorithm on the training data\n",
    "gbm0.fit(X_train,Y_train)\n",
    "\n",
    "#Predict test set:\n",
    "#dtest_predictions = gbm0.predict(X_test.query('Año==2016 & Mes==8').reset_index(drop=True))\n",
    "#dtest_predictions = gbm0.predict(X_test[(X_test.Año==2016) & (X_test.Mes==10)].reset_index(drop=True))\n",
    "#dtest_predictions"
   ]
  }
 ],
 "metadata": {
  "kernelspec": {
   "display_name": "Python 3",
   "language": "python",
   "name": "python3"
  },
  "language_info": {
   "codemirror_mode": {
    "name": "ipython",
    "version": 3
   },
   "file_extension": ".py",
   "mimetype": "text/x-python",
   "name": "python",
   "nbconvert_exporter": "python",
   "pygments_lexer": "ipython3",
   "version": "3.5.4"
  }
 },
 "nbformat": 4,
 "nbformat_minor": 0
}
