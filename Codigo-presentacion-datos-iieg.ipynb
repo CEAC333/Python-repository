{
 "cells": [
  {
   "cell_type": "code",
   "execution_count": 1,
   "metadata": {
    "collapsed": true
   },
   "outputs": [],
   "source": [
    "import pandas as pd\n",
    "import numpy as np"
   ]
  },
  {
   "cell_type": "code",
   "execution_count": 29,
   "metadata": {
    "collapsed": false
   },
   "outputs": [],
   "source": [
    "import pandas as pd\n",
    "import numpy as np\n",
    "file= 'DataframeImportaciones.csv'\n",
    "datos=pd.read_csv(\"C:/Users/USUARIO/Downloads/DataframeImportaciones.csv\",\n",
    "                       header=0,\n",
    "                       sep=',',\n",
    "                       parse_dates=False,\n",
    "                       index_col=0,\n",
    "                       skip_blank_lines=True,\n",
    "                 encoding='latin-1')"
   ]
  },
  {
   "cell_type": "code",
   "execution_count": 30,
   "metadata": {
    "collapsed": false
   },
   "outputs": [],
   "source": [
    "num_col = len(datos.columns)\n",
    "nueva_tabla = pd.DataFrame(np.zeros((len(datos)*(num_col-2), 4)))\n",
    "j = 0\n",
    "x = 2\n",
    "columnas = list(datos)\n",
    "nueva_tabla.columns = [columnas[0], columnas[1],'Año','Monto']"
   ]
  },
  {
   "cell_type": "code",
   "execution_count": 31,
   "metadata": {
    "collapsed": false
   },
   "outputs": [],
   "source": [
    "for i in range(1,(len(nueva_tabla))+1):\n",
    "    \n",
    "    if x > (num_col-1):\n",
    "        x = 2\n",
    "   \n",
    "    nueva_tabla.iloc[i-1,0] = datos.iloc[j,0]\n",
    "    nueva_tabla.iloc[i-1,1] = datos.iloc[j,1]\n",
    "    nueva_tabla.iloc[i-1,2] = columnas[x]\n",
    "    nueva_tabla.iloc[i-1,3] = datos.iloc[j,x]\n",
    "    \n",
    "    x = x+1\n",
    "   \n",
    "    if  i % (num_col-2) == 0:\n",
    "        j = (j+1)\n",
    "        \n",
    "    if  j == len(datos):\n",
    "        j = len(datos)-1"
   ]
  },
  {
   "cell_type": "code",
   "execution_count": 32,
   "metadata": {
    "collapsed": false
   },
   "outputs": [],
   "source": [
    "nueva_tabla.to_csv('Dataframe_Importaciones_Anuales_version2.csv')\n"
   ]
  },
  {
   "cell_type": "code",
   "execution_count": 4,
   "metadata": {
    "collapsed": false
   },
   "outputs": [],
   "source": [
    "file= 'DataframeImportacionesmensuales_sinblank.csv'\n",
    "datos2=pd.read_csv(file,\n",
    "                       header=0,\n",
    "                       index_col=0,\n",
    "                       sep=',',\n",
    "                       parse_dates=False,\n",
    "                       skip_blank_lines=True,\n",
    "                 encoding='latin-1')\n"
   ]
  },
  {
   "cell_type": "code",
   "execution_count": 33,
   "metadata": {
    "collapsed": false
   },
   "outputs": [],
   "source": [
    "datos2=pd.read_csv(\"C:/Users/USUARIO/Downloads/DataframeImportacionesmensuales.csv\",\n",
    "                       header=0,\n",
    "                       sep=',',\n",
    "                       parse_dates=False,\n",
    "                       index_col=0,\n",
    "                       skip_blank_lines=True,\n",
    "                 encoding='latin-1')"
   ]
  },
  {
   "cell_type": "code",
   "execution_count": 5,
   "metadata": {
    "collapsed": false
   },
   "outputs": [],
   "source": [
    "num_col2 = len(datos2.columns)\n",
    "nueva_tabla2 = pd.DataFrame(np.zeros((len(datos2)*(num_col2-2), 5)))\n",
    "j = 0\n",
    "x = 2\n",
    "columnas2 = list(datos2)\n",
    "nueva_tabla2.columns = [columnas2[0], columnas2[1],'Año','Mes','Monto']"
   ]
  },
  {
   "cell_type": "code",
   "execution_count": 6,
   "metadata": {
    "collapsed": true
   },
   "outputs": [],
   "source": [
    "for i in range(1,(len(nueva_tabla2))+1):\n",
    "    \n",
    "    if x > (num_col2-1):\n",
    "        x = 2\n",
    "    \n",
    "    nombrefecha = str(columnas2[x])\n",
    "   \n",
    "    nueva_tabla2.iloc[i-1,0] = datos2.iloc[j,0]\n",
    "    nueva_tabla2.iloc[i-1,1] = datos2.iloc[j,1]\n",
    "    nueva_tabla2.iloc[i-1,2] = nombrefecha[:4]\n",
    "    nueva_tabla2.iloc[i-1,3] = nombrefecha[5:]\n",
    "    nueva_tabla2.iloc[i-1,4] = datos2.iloc[j,x]\n",
    "    \n",
    "    x = x+1\n",
    "   \n",
    "    if  i % (num_col2-2) == 0:\n",
    "        j = (j+1)\n",
    "        \n",
    "    if  j == len(datos2):\n",
    "        j = len(datos2)-1"
   ]
  },
  {
   "cell_type": "code",
   "execution_count": 7,
   "metadata": {
    "collapsed": false
   },
   "outputs": [],
   "source": [
    "nueva_tabla2.to_csv('Dataframe_Importaciones_mensuales_version2.csv')\n"
   ]
  },
  {
   "cell_type": "code",
   "execution_count": 37,
   "metadata": {
    "collapsed": true
   },
   "outputs": [],
   "source": [
    "datos4=pd.read_csv(\"C:/Users/USUARIO/Downloads/DataframeExportacionesmensuales.csv\",\n",
    "                       header=0,\n",
    "                       sep=',',\n",
    "                       parse_dates=False,\n",
    "                       index_col=0,\n",
    "                       skip_blank_lines=True,\n",
    "                 encoding='latin-1')"
   ]
  },
  {
   "cell_type": "code",
   "execution_count": 38,
   "metadata": {
    "collapsed": true
   },
   "outputs": [],
   "source": [
    "num_col4 = len(datos2.columns)\n",
    "nueva_tabla4 = pd.DataFrame(np.zeros((len(datos4)*(num_col4-2), 5)))\n",
    "j = 0\n",
    "x = 2\n",
    "columnas4 = list(datos4)\n",
    "nueva_tabla4.columns = [columnas4[0], columnas4[1],'Año','Mes','Monto']"
   ]
  },
  {
   "cell_type": "code",
   "execution_count": 39,
   "metadata": {
    "collapsed": true
   },
   "outputs": [],
   "source": [
    "for i in range(1,(len(nueva_tabla4))+1):\n",
    "    \n",
    "    if x > (num_col4-1):\n",
    "        x = 2\n",
    "    \n",
    "    nombrefecha = str(columnas4[x])\n",
    "   \n",
    "    nueva_tabla4.iloc[i-1,0] = datos4.iloc[j,0]\n",
    "    nueva_tabla4.iloc[i-1,1] = datos4.iloc[j,1]\n",
    "    nueva_tabla4.iloc[i-1,2] = nombrefecha[:4]\n",
    "    nueva_tabla4.iloc[i-1,3] = nombrefecha[5:]\n",
    "    nueva_tabla4.iloc[i-1,4] = datos4.iloc[j,x]\n",
    "    \n",
    "    x = x+1\n",
    "   \n",
    "    if  i % (num_col4-2) == 0:\n",
    "        j = (j+1)\n",
    "        \n",
    "    if  j == len(datos4):\n",
    "        j = len(datos4)-1"
   ]
  },
  {
   "cell_type": "code",
   "execution_count": 40,
   "metadata": {
    "collapsed": true
   },
   "outputs": [],
   "source": [
    "nueva_tabla4.to_csv('Dataframe_Exportaciones_mensuales_version2.csv')"
   ]
  },
  {
   "cell_type": "code",
   "execution_count": 41,
   "metadata": {
    "collapsed": true
   },
   "outputs": [],
   "source": [
    "datos4=pd.read_csv(\"C:/Users/USUARIO/Downloads/DataframeImportmenporseccion.csv\",\n",
    "                       header=0,\n",
    "                       sep=',',\n",
    "                       parse_dates=False,\n",
    "                       index_col=0,\n",
    "                       skip_blank_lines=True,\n",
    "                 encoding='latin-1')"
   ]
  },
  {
   "cell_type": "code",
   "execution_count": 42,
   "metadata": {
    "collapsed": true
   },
   "outputs": [],
   "source": [
    "num_col4 = len(datos4.columns)\n",
    "nueva_tabla4 = pd.DataFrame(np.zeros((len(datos4)*(num_col4-2), 5)))\n",
    "j = 0\n",
    "x = 2\n",
    "columnas4 = list(datos4)\n",
    "nueva_tabla4.columns = [columnas4[0], columnas4[1],'Año','Mes','Monto']"
   ]
  },
  {
   "cell_type": "code",
   "execution_count": 43,
   "metadata": {
    "collapsed": false
   },
   "outputs": [],
   "source": [
    "for i in range(1,(len(nueva_tabla4))+1):\n",
    "    \n",
    "    if x > (num_col4-1):\n",
    "        x = 2\n",
    "    \n",
    "    nombrefecha = str(columnas4[x])\n",
    "   \n",
    "    nueva_tabla4.iloc[i-1,0] = datos4.iloc[j,0]\n",
    "    nueva_tabla4.iloc[i-1,1] = datos4.iloc[j,1]\n",
    "    nueva_tabla4.iloc[i-1,2] = nombrefecha[:4]\n",
    "    nueva_tabla4.iloc[i-1,3] = nombrefecha[5:]\n",
    "    nueva_tabla4.iloc[i-1,4] = datos4.iloc[j,x]\n",
    "    \n",
    "    x = x+1\n",
    "   \n",
    "    if  i % (num_col4-2) == 0:\n",
    "        j = (j+1)\n",
    "        \n",
    "    if  j == len(datos4):\n",
    "        j = len(datos4)-1"
   ]
  },
  {
   "cell_type": "code",
   "execution_count": 44,
   "metadata": {
    "collapsed": true
   },
   "outputs": [],
   "source": [
    "nueva_tabla4.to_csv('Dataframe_Importaciones_Seccion_version2.csv')"
   ]
  },
  {
   "cell_type": "code",
   "execution_count": 45,
   "metadata": {
    "collapsed": true
   },
   "outputs": [],
   "source": [
    "datos5=pd.read_csv(\"C:/Users/USUARIO/Downloads/DataframeExportmenporseccion.csv\",\n",
    "                       header=0,\n",
    "                       sep=',',\n",
    "                       parse_dates=False,\n",
    "                       index_col=0,\n",
    "                       skip_blank_lines=True,\n",
    "                 encoding='latin-1')"
   ]
  },
  {
   "cell_type": "code",
   "execution_count": 46,
   "metadata": {
    "collapsed": true
   },
   "outputs": [],
   "source": [
    "num_col5 = len(datos5.columns)\n",
    "nueva_tabla5 = pd.DataFrame(np.zeros((len(datos5)*(num_col5-2), 5)))\n",
    "j = 0\n",
    "x = 2\n",
    "columnas5 = list(datos5)\n",
    "nueva_tabla5.columns = [columnas5[0], columnas5[1],'Año','Mes','Monto']"
   ]
  },
  {
   "cell_type": "code",
   "execution_count": 47,
   "metadata": {
    "collapsed": true
   },
   "outputs": [],
   "source": [
    "for i in range(1,(len(nueva_tabla5))+1):\n",
    "    \n",
    "    if x > (num_col5-1):\n",
    "        x = 2\n",
    "    \n",
    "    nombrefecha = str(columnas5[x])\n",
    "   \n",
    "    nueva_tabla5.iloc[i-1,0] = datos5.iloc[j,0]\n",
    "    nueva_tabla5.iloc[i-1,1] = datos5.iloc[j,1]\n",
    "    nueva_tabla5.iloc[i-1,2] = nombrefecha[:4]\n",
    "    nueva_tabla5.iloc[i-1,3] = nombrefecha[5:]\n",
    "    nueva_tabla5.iloc[i-1,4] = datos5.iloc[j,x]\n",
    "    \n",
    "    x = x+1\n",
    "   \n",
    "    if  i % (num_col5-2) == 0:\n",
    "        j = (j+1)\n",
    "        \n",
    "    if  j == len(datos5):\n",
    "        j = len(datos5)-1"
   ]
  },
  {
   "cell_type": "code",
   "execution_count": 48,
   "metadata": {
    "collapsed": true
   },
   "outputs": [],
   "source": [
    "nueva_tabla5.to_csv('Dataframe_Exportaciones_Seccion_version2.csv')"
   ]
  }
 ],
 "metadata": {
  "kernelspec": {
   "display_name": "Python 3",
   "language": "python",
   "name": "python3"
  },
  "language_info": {
   "codemirror_mode": {
    "name": "ipython",
    "version": 3
   },
   "file_extension": ".py",
   "mimetype": "text/x-python",
   "name": "python",
   "nbconvert_exporter": "python",
   "pygments_lexer": "ipython3",
   "version": "3.5.4"
  }
 },
 "nbformat": 4,
 "nbformat_minor": 2
}
