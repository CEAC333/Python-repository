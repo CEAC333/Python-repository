{
 "cells": [
  {
   "cell_type": "code",
   "execution_count": 1,
   "metadata": {
    "collapsed": true
   },
   "outputs": [],
   "source": [
    "import numpy as np\n",
    "import pandas as pd\n",
    "import math as mt"
   ]
  },
  {
   "cell_type": "code",
   "execution_count": 2,
   "metadata": {
    "collapsed": false
   },
   "outputs": [],
   "source": [
    "def is_palindromo(palabra):\n",
    "    longitud=palabra.size\n",
    "    punto_partir=mt.floor((longitud-1)/2)\n",
    "    izq_der=palabra.iloc[:(punto_partir+1),:]\n",
    "    der_izq=palabra.iloc[punto_partir:,:]\n",
    "    if mt.fmod(longitud,2)!=0:\n",
    "        der_izq=der_izq\n",
    "    else:\n",
    "        der_izq=der_izq.iloc[1:,:]\n",
    "    der_izq=der_izq.iloc[::-1]\n",
    "    der_izq=der_izq.reset_index(drop=True)\n",
    "    print(izq_der.equals(der_izq))"
   ]
  },
  {
   "cell_type": "code",
   "execution_count": 13,
   "metadata": {
    "collapsed": false
   },
   "outputs": [
    {
     "name": "stdout",
     "output_type": "stream",
     "text": [
      "True\n"
     ]
    }
   ],
   "source": [
    "palabra1=pd.DataFrame(['l','o','l'])\n",
    "palabra2=pd.DataFrame(['l','0','0','l'])\n",
    "palabra3=pd.DataFrame(['h','o','l','a'])\n",
    "palabra4=pd.DataFrame(['a','m','o','r','o','m','a'])\n",
    "\n",
    "is_palindromo(palabra2)"
   ]
  },
  {
   "cell_type": "code",
   "execution_count": 20,
   "metadata": {
    "collapsed": false
   },
   "outputs": [],
   "source": [
    "longitud=palabra2.size\n",
    "punto_partir=mt.floor((longitud-1)/2)\n",
    "izq_der=palabra2.iloc[:(punto_partir+1),:]\n",
    "der_izq=palabra2.iloc[punto_partir:,:]"
   ]
  },
  {
   "cell_type": "code",
   "execution_count": 21,
   "metadata": {
    "collapsed": false
   },
   "outputs": [
    {
     "name": "stdout",
     "output_type": "stream",
     "text": [
      "False\n"
     ]
    }
   ],
   "source": [
    "print(izq_der.equals(der_izq))"
   ]
  }
 ],
 "metadata": {
  "kernelspec": {
   "display_name": "Python 3",
   "language": "python",
   "name": "python3"
  },
  "language_info": {
   "codemirror_mode": {
    "name": "ipython",
    "version": 3
   },
   "file_extension": ".py",
   "mimetype": "text/x-python",
   "name": "python",
   "nbconvert_exporter": "python",
   "pygments_lexer": "ipython3",
   "version": "3.5.4"
  }
 },
 "nbformat": 4,
 "nbformat_minor": 0
}
